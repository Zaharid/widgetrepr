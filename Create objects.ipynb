{
 "metadata": {
  "name": "",
  "signature": "sha256:39784c7c1b7a0e0765675c1f628345a734721250d1c9e9cfebc9e15fb39ab352"
 },
 "nbformat": 3,
 "nbformat_minor": 0,
 "worksheets": [
  {
   "cells": [
    {
     "cell_type": "code",
     "collapsed": false,
     "input": [
      "from IPython.utils.traitlets import HasTraits, Unicode, List, Int, Instance\n",
      "from IPython.html import widgets\n",
      "from widgetrepr import create_object, edit_object\n",
      "\n",
      "class Simulation(HasTraits):\n",
      "    name = Unicode()\n",
      "    initpoint = Int()\n",
      "    endpoint = Int()\n",
      "\n",
      "class RunBatch(HasTraits):\n",
      "    name = Unicode()\n",
      "    simulations = List(Instance(Simulation))"
     ],
     "language": "python",
     "metadata": {},
     "outputs": [],
     "prompt_number": 1
    },
    {
     "cell_type": "code",
     "collapsed": false,
     "input": [
      "create_object(\"batch\", RunBatch)"
     ],
     "language": "python",
     "metadata": {},
     "outputs": [],
     "prompt_number": 2
    },
    {
     "cell_type": "code",
     "collapsed": false,
     "input": [],
     "language": "python",
     "metadata": {},
     "outputs": []
    }
   ],
   "metadata": {}
  }
 ]
}